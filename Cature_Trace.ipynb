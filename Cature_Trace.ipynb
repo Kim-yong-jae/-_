{
 "cells": [
  {
   "cell_type": "markdown",
   "id": "34943533",
   "metadata": {},
   "source": [
    "# Libraries"
   ]
  },
  {
   "cell_type": "code",
   "execution_count": 16,
   "id": "3501ec06",
   "metadata": {},
   "outputs": [],
   "source": [
    "import numpy as np\n",
    "#from tensorflow import keras\n",
    "import matplotlib.pyplot as plt\n",
    "import tqdm\n",
    "import chipwhisperer as cw\n",
    "import os\n",
    "# 그림 글씨체 및 크기 설정\n",
    "plt.rcParams['font.family'] = 'Times New Roman'\n",
    "plt.rcParams['font.size']   = 12\n",
    "numberOfPoints = -1\n",
    "axisFontSize  = 14\n",
    "titleFontSize = 20"
   ]
  },
  {
   "cell_type": "markdown",
   "id": "d2007d1a",
   "metadata": {},
   "source": [
    "# CW setting"
   ]
  },
  {
   "cell_type": "code",
   "execution_count": 17,
   "id": "01d4414e",
   "metadata": {},
   "outputs": [],
   "source": [
    "SCOPETYPE = 'OPENADC'\n",
    "PLATFORM = 'CWLITEXMEGA'\n",
    "CRYPTO_TARGET = 'NONE'"
   ]
  },
  {
   "cell_type": "code",
   "execution_count": 18,
   "id": "34d6e6d8",
   "metadata": {},
   "outputs": [
    {
     "name": "stdout",
     "output_type": "stream",
     "text": [
      "SS_VER set to SS_VER_1_1\n",
      "SS_VER set to SS_VER_1_1\n",
      "SS_VER set to SS_VER_1_1\n",
      "SS_VER set to SS_VER_1_1\n",
      "make[1]: '.dep' is up to date.\n",
      "SS_VER set to SS_VER_1_1\n",
      "SS_VER set to SS_VER_1_1\n",
      ".\n",
      "Welcome to another exciting ChipWhisperer target build!!\n",
      "avr-gcc (GCC) 11.1.0\n",
      "Copyright (C) 2021 Free Software Foundation, Inc.\n",
      "This is free software; see the source for copying conditions.  There is NO\n",
      "warranty; not even for MERCHANTABILITY or FITNESS FOR A PARTICULAR PURPOSE.\n",
      "\n",
      ".\n",
      "Compiling:\n",
      "    SS_AES.c ...Done!\n",
      ".\n",
      "Compiling:\n",
      "    .././simpleserial/simpleserial.c ...Done!\n",
      ".\n",
      "Compiling:\n",
      "    .././hal/xmega/XMEGA_AES_driver.c ...Done!\n",
      ".\n",
      "Compiling:\n",
      "    .././hal/xmega/uart.c ...Done!\n",
      ".\n",
      "Compiling:\n",
      "    .././hal/xmega/usart_driver.c ...Done!\n",
      ".\n",
      "Compiling:\n",
      "    .././hal/xmega/xmega_hal.c ...Done!\n",
      ".\n",
      "LINKING:\n",
      "    simpleserial-base-CWLITEXMEGA.elf ...Done!\n",
      ".\n",
      "Creating load file for Flash: simpleserial-base-CWLITEXMEGA.hex\n",
      "avr-objcopy -O ihex -R .eeprom -R .fuse -R .lock -R .signature simpleserial-base-CWLITEXMEGA.elf simpleserial-base-CWLITEXMEGA.hex\n",
      ".\n",
      "Creating load file for Flash: simpleserial-base-CWLITEXMEGA.bin\n",
      "avr-objcopy -O binary -R .eeprom -R .fuse -R .lock -R .signature simpleserial-base-CWLITEXMEGA.elf simpleserial-base-CWLITEXMEGA.bin\n",
      ".\n",
      "Creating load file for EEPROM: simpleserial-base-CWLITEXMEGA.eep\n",
      "avr-objcopy -j .eeprom --set-section-flags=.eeprom=\"alloc,load\" \\\n",
      "--change-section-lma .eeprom=0 --no-change-warnings -O ihex simpleserial-base-CWLITEXMEGA.elf simpleserial-base-CWLITEXMEGA.eep || exit 0\n",
      ".\n",
      "Creating Extended Listing: simpleserial-base-CWLITEXMEGA.lss\n",
      "avr-objdump -h -S -z simpleserial-base-CWLITEXMEGA.elf > simpleserial-base-CWLITEXMEGA.lss\n",
      ".\n",
      "Creating Symbol Table: simpleserial-base-CWLITEXMEGA.sym\n",
      "avr-nm -n simpleserial-base-CWLITEXMEGA.elf > simpleserial-base-CWLITEXMEGA.sym\n",
      "SS_VER set to SS_VER_1_1\n",
      "SS_VER set to SS_VER_1_1\n",
      "Size after:\n",
      "   text\t   data\t    bss\t    dec\t    hex\tfilename\n",
      "   3560\t    540\t    274\t   4374\t   1116\tsimpleserial-base-CWLITEXMEGA.elf\n",
      "+--------------------------------------------------------\n",
      "+ Default target does full rebuild each time.\n",
      "+ Specify buildtarget == allquick == to avoid full rebuild\n",
      "+--------------------------------------------------------\n",
      "+--------------------------------------------------------\n",
      "+ Built for platform CW-Lite XMEGA with:\n",
      "+ CRYPTO_TARGET = NONE\n",
      "+ CRYPTO_OPTIONS = \n",
      "+--------------------------------------------------------\n"
     ]
    }
   ],
   "source": [
    "%%sh -s \"$PLATFORM\" \"$CRYPTO_TARGET\"\n",
    "cd  ../hardware/victims/firmware/simpleserial-base-lab1\n",
    "make PLATFORM=$1 CRYPTO_TARGET=$2"
   ]
  },
  {
   "cell_type": "markdown",
   "id": "9fc5dcc7",
   "metadata": {},
   "source": [
    "# Capturing Power Traces"
   ]
  },
  {
   "cell_type": "code",
   "execution_count": 19,
   "id": "030dab0b",
   "metadata": {},
   "outputs": [],
   "source": [
    "# Setting capture board\n",
    "scope = cw.scope()\n",
    "scope.default_setup()\n",
    "scope.adc.samples     =  4100\n",
    "scope.adc.presamples  = 0\n",
    "scope.clock.clkgen_freq = 7370000\n",
    "scope.clock.adc_src   = 'clkgen_x4' \n",
    "\n",
    "target = cw.target(scope, cw.targets.SimpleSerial)"
   ]
  },
  {
   "cell_type": "code",
   "execution_count": 20,
   "id": "738bec5a",
   "metadata": {},
   "outputs": [],
   "source": [
    "if \"STM\" in PLATFORM or PLATFORM == \"CWLITEARM\" or PLATFORM == \"CWNANO\":\n",
    "    prog = cw.programmers.STM32FProgrammer\n",
    "elif PLATFORM == \"CW303\" or PLATFORM == \"CWLITEXMEGA\":\n",
    "    prog = cw.programmers.XMEGAProgrammer\n",
    "fw_path = \"../hardware/victims/firmware/simpleserial-base-lab1/simpleserial-base-{}.hex\".format(PLATFORM)"
   ]
  },
  {
   "cell_type": "code",
   "execution_count": 21,
   "id": "c1e100ff",
   "metadata": {},
   "outputs": [
    {
     "name": "stdout",
     "output_type": "stream",
     "text": [
      "XMEGA Programming flash...\n",
      "XMEGA Reading flash...\n",
      "Verified flash OK, 4099 bytes\n"
     ]
    }
   ],
   "source": [
    "# program the target\n",
    "\n",
    "cw.program_target(scope, prog, fw_path)"
   ]
  },
  {
   "cell_type": "markdown",
   "id": "259fa8c3",
   "metadata": {},
   "source": [
    "## Capturing Template Power Traces"
   ]
  },
  {
   "cell_type": "code",
   "execution_count": 22,
   "id": "1f9e3016",
   "metadata": {},
   "outputs": [
    {
     "name": "stdout",
     "output_type": "stream",
     "text": [
      "cwlite Device\n",
      "sn         = 4420312046304a383030332038303034\n",
      "fw_version = \n",
      "    major = 0\n",
      "    minor = 64\n",
      "    debug = 0\n",
      "gain = \n",
      "    mode = high\n",
      "    gain = 30\n",
      "    db   = 24.8359375\n",
      "adc = \n",
      "    state          = False\n",
      "    basic_mode     = rising_edge\n",
      "    timeout        = 2\n",
      "    offset         = 0\n",
      "    presamples     = 0\n",
      "    samples        = 4100\n",
      "    decimate       = 1\n",
      "    trig_count     = 10878408\n",
      "    fifo_fill_mode = normal\n",
      "clock = \n",
      "    adc_src       = clkgen_x4\n",
      "    adc_phase     = 0\n",
      "    adc_freq      = 29538459\n",
      "    adc_rate      = 29538459.0\n",
      "    adc_locked    = True\n",
      "    freq_ctr      = 0\n",
      "    freq_ctr_src  = extclk\n",
      "    clkgen_src    = system\n",
      "    extclk_freq   = 10000000\n",
      "    clkgen_mul    = 2\n",
      "    clkgen_div    = 26\n",
      "    clkgen_freq   = 7384615.384615385\n",
      "    clkgen_locked = True\n",
      "trigger = \n",
      "    triggers = tio4\n",
      "    module   = basic\n",
      "io = \n",
      "    tio1         = serial_rx\n",
      "    tio2         = serial_tx\n",
      "    tio3         = high_z\n",
      "    tio4         = high_z\n",
      "    pdid         = high_z\n",
      "    pdic         = high_z\n",
      "    nrst         = high_z\n",
      "    glitch_hp    = False\n",
      "    glitch_lp    = False\n",
      "    extclk_src   = hs1\n",
      "    hs2          = clkgen\n",
      "    target_pwr   = True\n",
      "    tio_states   = (1, 1, 0, 0)\n",
      "    cdc_settings = bytearray(b'\\x00\\x00\\x00\\x00')\n",
      "glitch = \n",
      "    clk_src     = target\n",
      "    width       = 10.15625\n",
      "    width_fine  = 0\n",
      "    offset      = 10.15625\n",
      "    offset_fine = 0\n",
      "    trigger_src = manual\n",
      "    arm_timing  = after_scope\n",
      "    ext_offset  = 0\n",
      "    repeat      = 1\n",
      "    output      = clock_xor\n",
      "\n"
     ]
    }
   ],
   "source": [
    "print(scope)"
   ]
  },
  {
   "cell_type": "code",
   "execution_count": 43,
   "id": "f7facd55",
   "metadata": {},
   "outputs": [
    {
     "name": "stderr",
     "output_type": "stream",
     "text": [
      "C:\\Users\\rlady\\AppData\\Local\\Temp\\ipykernel_10744\\911176471.py:9: TqdmDeprecationWarning: Please use `tqdm.notebook.trange` instead of `tqdm.tnrange`\n",
      "  for i in tnrange(N, desc='Capturing traces'):\n"
     ]
    },
    {
     "data": {
      "application/vnd.jupyter.widget-view+json": {
       "model_id": "bda633663f4d49d6b457f946c56c8a9d",
       "version_major": 2,
       "version_minor": 0
      },
      "text/plain": [
       "Capturing traces:   0%|          | 0/1 [00:00<?, ?it/s]"
      ]
     },
     "metadata": {},
     "output_type": "display_data"
    },
    {
     "data": {
      "image/png": "[encoded data removed]",
      "text/plain": [
       "<Figure size 1000x600 with 1 Axes>"
      ]
     },
     "metadata": {},
     "output_type": "display_data"
    }
   ],
   "source": [
    "#Capture Traces\n",
    "from tqdm import tnrange\n",
    "project = cw.create_project(\"/projects/template_templatedata.cwp\", overwrite = True)\n",
    "# ChipWhisperer Key-Text 페어 생성\n",
    "ktp = cw.ktp.Basic()\n",
    "ktp.fixed_key = True \n",
    "\n",
    "N = 100000  # Number of traces\n",
    "for i in tnrange(N, desc='Capturing traces'):\n",
    "    key, text = ktp.next() # 다음 랜덤 키-텍스트 페어 생성\n",
    "    trace = cw.capture_trace(scope, target, text, key)\n",
    "    # 캡처된 트레이스가 없으면 건너뛰기\n",
    "    if trace is None:\n",
    "        continue\n",
    "    plt.figure(figsize=(10, 6))\n",
    "    plt.plot(trace.wave, alpha=0.9)\n",
    "    plt.xlim(0, scope.adc.samples-1)\n",
    "    plt.xlabel('Time', fontsize=19)\n",
    "    plt.ylabel('Power Consumption', fontsize=19)\n",
    "    plt.xticks(fontsize=19)\n",
    "    plt.yticks(fontsize=19)\n",
    "    plt.savefig('mytrace.png',dpi=100)\n",
    "    plt.show()  \n",
    "    \n",
    "    # 프로젝트에 캡처된 트레이스 추가\n",
    "    project.traces.append(trace)\n",
    "\n",
    "#Save the project\n",
    "project.save()\n"
   ]
  },
  {
   "cell_type": "markdown",
   "id": "a9b9d12c",
   "metadata": {},
   "source": [
    "## Capturing Validate Power Traces"
   ]
  },
  {
   "cell_type": "code",
   "execution_count": 8,
   "id": "7c1230cf",
   "metadata": {},
   "outputs": [
    {
     "name": "stderr",
     "output_type": "stream",
     "text": [
      "C:\\Users\\rlady\\AppData\\Local\\Temp\\ipykernel_13632\\466176700.py:8: TqdmDeprecationWarning: Please use `tqdm.notebook.trange` instead of `tqdm.tnrange`\n",
      "  for i in tnrange(N, desc='Capturing traces'):\n"
     ]
    },
    {
     "data": {
      "application/vnd.jupyter.widget-view+json": {
       "model_id": "76cb02be4206431aaea4c0f2949ec25b",
       "version_major": 2,
       "version_minor": 0
      },
      "text/plain": [
       "Capturing traces:   0%|          | 0/10000 [00:00<?, ?it/s]"
      ]
     },
     "metadata": {},
     "output_type": "display_data"
    }
   ],
   "source": [
    "#Capture Traces\n",
    "#Make a project to save test traces\n",
    "project = cw.create_project(\"/projects/template_validate.cwp\", overwrite = True)\n",
    "\n",
    "ktp = cw.ktp.Basic()\n",
    "\n",
    "N = 10000 # Number of traces\n",
    "for i in tnrange(N, desc='Capturing traces'):\n",
    "    key, text = ktp.next()\n",
    "    trace = cw.capture_trace(scope, target, text, key)\n",
    "    if trace is None:\n",
    "        continue\n",
    "    project.traces.append(trace)\n",
    "\n",
    "#Save the project\n",
    "project.save()"
   ]
  },
  {
   "cell_type": "code",
   "execution_count": 15,
   "id": "b684edb0",
   "metadata": {},
   "outputs": [],
   "source": [
    "# cleanup the connection to the target and scope\n",
    "scope.dis()\n",
    "target.dis()"
   ]
  },
  {
   "cell_type": "markdown",
   "id": "5a906e1c",
   "metadata": {},
   "source": [
    "# Get Value"
   ]
  },
  {
   "cell_type": "code",
   "execution_count": 12,
   "id": "64ac151b",
   "metadata": {},
   "outputs": [
    {
     "name": "stdout",
     "output_type": "stream",
     "text": [
      "4100\n"
     ]
    }
   ],
   "source": [
    "# 프로젝트 로드\n",
    "project = cw.open_project(\"/projects/template_validate.cwp\")\n",
    "\n",
    "# 프로젝트에서 트레이스 추출\n",
    "valid_traces = project.traces\n",
    "\n",
    "# 추출된 트레이스를 확인하거나 처리할 수 있습니다.\n",
    "valid_wave = np.array([trace.wave for trace in valid_traces ])\n",
    "valid_pt = np.array([trace.textin for trace in valid_traces])\n",
    "valid_ct = np.array([trace.textout for trace in valid_traces])\n",
    "valid_key = np.array([trace.key for trace in valid_traces])\n",
    "\n",
    "print(valid_wave.shape[1])\n",
    "\n",
    "# 프로젝트 닫기\n",
    "try:\n",
    "    project.close()\n",
    "except Exception as e:\n",
    "    print(f\"An error occurred while closing the project: {e}\")\n",
    "\n",
    "np.save('valid_wave.npy', valid_wave, allow_pickle=False)\n",
    "np.save('valid_pt.npy', valid_pt, allow_pickle=False)\n",
    "np.save('valid_ct.npy', valid_ct, allow_pickle=False)\n",
    "np.save('valid_key.npy', valid_key, allow_pickle=False)"
   ]
  },
  {
   "cell_type": "code",
   "execution_count": 32,
   "id": "d01a08db",
   "metadata": {},
   "outputs": [
    {
     "name": "stdout",
     "output_type": "stream",
     "text": [
      "[[ 0.11230469 -0.24414062 -0.11425781 ... -0.07519531  0.04101562\n",
      "  -0.00585938]\n",
      " [ 0.10839844 -0.23730469 -0.11425781 ... -0.21484375 -0.09179688\n",
      "  -0.10644531]\n",
      " [ 0.10449219 -0.23632812 -0.11035156 ... -0.17089844 -0.02539062\n",
      "  -0.04980469]\n",
      " ...\n",
      " [ 0.10058594 -0.25097656 -0.12109375 ... -0.06933594  0.04589844\n",
      "  -0.00488281]\n",
      " [ 0.10449219 -0.24511719 -0.11328125 ... -0.17382812 -0.05761719\n",
      "  -0.07714844]\n",
      " [ 0.10839844 -0.24023438 -0.11230469 ... -0.21386719 -0.09179688\n",
      "  -0.11035156]]\n"
     ]
    }
   ],
   "source": [
    "import struct\n",
    "# 프로젝트 로드\n",
    "project = cw.open_project(\"/projects/template_templatedata.cwp\")\n",
    "\n",
    "# 프로젝트에서 트레이스 추출\n",
    "temp_traces = project.traces\n",
    "\n",
    "# 추출된 트레이스를 확인하거나 처리할 수 있습니다.\n",
    "temp_wave = np.array([trace.wave for trace in temp_traces ])\n",
    "temp_pt = np.array([trace.textin for trace in temp_traces])\n",
    "temp_key = np.array([temp_traces[0].key])\n",
    "print(temp_wave)\n",
    "\n",
    "\n",
    "# 프로젝트 닫기\n",
    "try:\n",
    "    project.close()\n",
    "except Exception as e:\n",
    "    print(f\"An error occurred while closing the project: {e}\")\n",
    "\n",
    "# 파일이 이미 존재하는지 확인하고 제거\n",
    "filename_wave = 'temp_wave.trace'\n",
    "filename_pt = 'temp_pt.txt'\n",
    "\n",
    "filename_key = 'temp_key.txt'\n",
    "\n",
    "for filename in [filename_wave, filename_pt, filename_key]:\n",
    "    if os.path.exists(filename):\n",
    "        os.remove(filename)\n",
    "\n",
    "\n",
    "with open(filename_wave, 'wb') as file:\n",
    "    for value in temp_wave.flatten():\n",
    "        # 32비트 부동 소수점으로 변환하여 바이트로 변환하고 파일에 쓰기\n",
    "        file.write(struct.pack('f', value))\n",
    "np.savetxt(filename_pt, temp_pt, fmt='%02x')\n",
    "np.savetxt(filename_key, temp_key, fmt='%02x')\n"
   ]
  },
  {
   "cell_type": "code",
   "execution_count": 26,
   "id": "3af3e65f",
   "metadata": {},
   "outputs": [
    {
     "name": "stderr",
     "output_type": "stream",
     "text": [
      "  0%|          | 0/5000 [00:00<?, ?it/s]\n"
     ]
    },
    {
     "ename": "IndexError",
     "evalue": "index 5000 is out of bounds for axis 0 with size 5000",
     "output_type": "error",
     "traceback": [
      "\u001b[1;31m---------------------------------------------------------------------------\u001b[0m",
      "\u001b[1;31mIndexError\u001b[0m                                Traceback (most recent call last)",
      "Cell \u001b[1;32mIn[26], line 11\u001b[0m\n\u001b[0;32m      9\u001b[0m \u001b[38;5;28;01mfor\u001b[39;00m row \u001b[38;5;129;01min\u001b[39;00m tqdm\u001b[38;5;241m.\u001b[39mtqdm(\u001b[38;5;28mrange\u001b[39m(temp_wave\u001b[38;5;241m.\u001b[39mshape[\u001b[38;5;241m0\u001b[39m]) ):\n\u001b[0;32m     10\u001b[0m     \u001b[38;5;28;01mfor\u001b[39;00m col \u001b[38;5;129;01min\u001b[39;00m \u001b[38;5;28mrange\u001b[39m(temp_wave\u001b[38;5;241m.\u001b[39mshape[\u001b[38;5;241m1\u001b[39m]):\n\u001b[1;32m---> 11\u001b[0m         fp\u001b[38;5;241m.\u001b[39mwrite(struct\u001b[38;5;241m.\u001b[39mpack(\u001b[38;5;124m'\u001b[39m\u001b[38;5;124mf\u001b[39m\u001b[38;5;124m'\u001b[39m, \u001b[43mtemp_wave\u001b[49m\u001b[43m[\u001b[49m\u001b[38;5;241;43m5000\u001b[39;49m\u001b[43m]\u001b[49m[\u001b[38;5;241m4100\u001b[39m]))\n",
      "\u001b[1;31mIndexError\u001b[0m: index 5000 is out of bounds for axis 0 with size 5000"
     ]
    }
   ],
   "source": [
    "\n",
    "# Save trace as .trace format\n",
    "with open('{}.trace'.format(filename_wave), 'wb') as fp:\n",
    "    fp.write(filename_wave.split('/')[-1][:20].ljust(20).encode('ascii'))\n",
    "    fp.write(struct.pack('i', temp_wave.shape[0]))\n",
    "    fp.write(struct.pack('i', temp_wave.shape[1]))\n",
    "    fp.write('END!'.encode('ascii'))\n",
    "    \n",
    "    for row in tqdm.tqdm(range(temp_wave.shape[0]) ):\n",
    "        for col in range(temp_wave.shape[1]):\n",
    "            fp.write(struct.pack('f', temp_wave[5000][4100]))\n"
   ]
  },
  {
   "cell_type": "code",
   "execution_count": null,
   "id": "b39d9fe5",
   "metadata": {},
   "outputs": [],
   "source": []
  }
 ],
 "metadata": {
  "kernelspec": {
   "display_name": "Python 3 (ipykernel)",
   "language": "python",
   "name": "python3"
  },
  "language_info": {
   "codemirror_mode": {
    "name": "ipython",
    "version": 3
   },
   "file_extension": ".py",
   "mimetype": "text/x-python",
   "name": "python",
   "nbconvert_exporter": "python",
   "pygments_lexer": "ipython3",
   "version": "3.11.5"
  }
 },
 "nbformat": 4,
 "nbformat_minor": 5
}
